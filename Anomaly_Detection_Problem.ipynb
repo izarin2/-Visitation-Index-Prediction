{
 "cells": [
  {
   "cell_type": "markdown",
   "id": "33c52dc9",
   "metadata": {},
   "source": [
    "Isolation Forest:"
   ]
  },
  {
   "cell_type": "code",
   "execution_count": 1,
   "id": "71295019",
   "metadata": {},
   "outputs": [
    {
     "name": "stderr",
     "output_type": "stream",
     "text": [
      "C:\\Users\\israt\\AppData\\Local\\Temp\\ipykernel_7792\\1489425783.py:6: DtypeWarning: Columns (3) have mixed types. Specify dtype option on import or set low_memory=False.\n",
      "  df = pd.read_csv(\"C://Users//israt//HD lab//My Project//Dataset//Airsage Dataset//NebraskaLakes_Cleaned.csv\")\n"
     ]
    },
    {
     "name": "stdout",
     "output_type": "stream",
     "text": [
      "All points with anomaly scores (Isolation Forest):\n",
      "                            poi       date   count  duration  anomaly_label  \\\n",
      "0               Alexandria West 2022-01-09    14.0       1.0              0   \n",
      "1       Barnett Park Lake North 2022-01-03    28.0       2.0              0   \n",
      "2       Barnett Park Lake North 2022-01-04    16.0       1.0              0   \n",
      "3       Barnett Park Lake North 2022-01-05    14.0       1.0              0   \n",
      "4       Barnett Park Lake North 2022-01-07    14.0       1.0              0   \n",
      "...                         ...        ...     ...       ...            ...   \n",
      "123622         Yanney Park Lake 2024-12-06  1339.0       1.0              0   \n",
      "123623         Yanney Park Lake 2024-12-07   803.0       1.0              0   \n",
      "123624            Zorinsky Lake 2024-12-06  1192.0       2.0              1   \n",
      "123625            Zorinsky Lake 2024-12-14   595.0       1.0              0   \n",
      "123626            Zorinsky Lake 2024-12-20   952.0       1.0              0   \n",
      "\n",
      "        anomaly_score  \n",
      "0           -0.200157  \n",
      "1           -0.159825  \n",
      "2           -0.202177  \n",
      "3           -0.200157  \n",
      "4           -0.200157  \n",
      "...               ...  \n",
      "123622      -0.001690  \n",
      "123623      -0.080123  \n",
      "123624       0.000125  \n",
      "123625      -0.093955  \n",
      "123626      -0.059592  \n",
      "\n",
      "[123627 rows x 6 columns]\n"
     ]
    }
   ],
   "source": [
    "import pandas as pd\n",
    "from sklearn.preprocessing import StandardScaler\n",
    "from sklearn.ensemble import IsolationForest\n",
    "\n",
    "# Load the dataset\n",
    "df = pd.read_csv(\"C://Users//israt//HD lab//My Project//Dataset//Airsage Dataset//NebraskaLakes_Cleaned.csv\")\n",
    "\n",
    "# Basic preprocessing\n",
    "df['date'] = pd.to_datetime(df['date'], format='%Y%m%d', errors='coerce')\n",
    "df = df.dropna(subset=['count', 'duration'])\n",
    "\n",
    "# Scale the features\n",
    "scaler = StandardScaler()\n",
    "X_scaled = scaler.fit_transform(df[['count', 'duration']])\n",
    "\n",
    "# Apply Isolation Forest\n",
    "iso_forest = IsolationForest(contamination=0.1, random_state=42)\n",
    "df['anomaly_label'] = iso_forest.fit_predict(X_scaled)  # -1 = anomaly, 1 = normal\n",
    "\n",
    "# Convert label: 1 -> 0 (normal), -1 -> 1 (anomaly)\n",
    "df['anomaly_label'] = df['anomaly_label'].map({1: 0, -1: 1})\n",
    "\n",
    "# Anomaly scores: flip decision_function so higher = more anomalous\n",
    "df['anomaly_score'] = -iso_forest.decision_function(X_scaled)\n",
    "\n",
    "# Print all rows with scores\n",
    "print(\"All points with anomaly scores (Isolation Forest):\")\n",
    "print(df[['poi', 'date', 'count', 'duration', 'anomaly_label', 'anomaly_score']])\n",
    "\n",
    "\n"
   ]
  },
  {
   "cell_type": "code",
   "execution_count": null,
   "id": "31d403fb",
   "metadata": {},
   "outputs": [],
   "source": [
    "top_by_score = df.sort_values(by='anomaly_score', ascending=False).head(10)\n",
    "print(\"\\nTop points by raw anomaly score (regardless of label):\")\n",
    "print(top_by_score[['poi', 'date', 'count', 'duration', 'anomaly_score', 'anomaly_label']])\n"
   ]
  }
 ],
 "metadata": {
  "kernelspec": {
   "display_name": "base",
   "language": "python",
   "name": "python3"
  },
  "language_info": {
   "codemirror_mode": {
    "name": "ipython",
    "version": 3
   },
   "file_extension": ".py",
   "mimetype": "text/x-python",
   "name": "python",
   "nbconvert_exporter": "python",
   "pygments_lexer": "ipython3",
   "version": "3.12.3"
  }
 },
 "nbformat": 4,
 "nbformat_minor": 5
}
